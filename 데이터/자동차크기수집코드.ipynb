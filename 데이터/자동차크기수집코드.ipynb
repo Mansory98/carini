{
 "cells": [
  {
   "cell_type": "code",
   "execution_count": 1,
   "id": "10ac71e4-065b-4e73-a402-2d7126fca8be",
   "metadata": {},
   "outputs": [
    {
     "name": "stdout",
     "output_type": "stream",
     "text": [
      "<class 'http.client.HTTPResponse'> <http.client.HTTPResponse object at 0x00000255065F7F40>\n",
      "['__abstractmethods__', '__class__', '__del__', '__delattr__', '__dict__', '__dir__', '__doc__', '__enter__', '__eq__', '__exit__', '__format__', '__ge__', '__getattribute__', '__getstate__', '__gt__', '__hash__', '__init__', '__init_subclass__', '__iter__', '__le__', '__lt__', '__module__', '__ne__', '__new__', '__next__', '__reduce__', '__reduce_ex__', '__repr__', '__setattr__', '__sizeof__', '__str__', '__subclasshook__', '_abc_impl', '_checkClosed', '_checkReadable', '_checkSeekable', '_checkWritable', '_check_close', '_close_conn', '_get_chunk_left', '_method', '_peek_chunked', '_read1_chunked', '_read_and_discard_trailer', '_read_chunked', '_read_next_chunk_size', '_read_status', '_readinto_chunked', '_safe_read', '_safe_readinto', 'begin', 'chunk_left', 'chunked', 'close', 'closed', 'code', 'debuglevel', 'detach', 'fileno', 'flush', 'fp', 'getcode', 'getheader', 'getheaders', 'geturl', 'headers', 'info', 'isatty', 'isclosed', 'length', 'msg', 'peek', 'read', 'read1', 'readable', 'readinto', 'readinto1', 'readline', 'readlines', 'reason', 'seek', 'seekable', 'status', 'tell', 'truncate', 'url', 'version', 'will_close', 'writable', 'write', 'writelines']\n",
      "\n"
     ]
    }
   ],
   "source": [
    "from urllib.request import urlopen\n",
    "html = urlopen('https://search.naver.com/search.naver?where=nexearch&sm=top_sug.pre&fbm=0&acr=1&acq=%EC%9E%90%EB%8F%99%EC%B0%A8&qdt=0&ie=utf8&query=%EC%9E%90%EB%8F%99%EC%B0%A8')\n",
    "# print(type(html), html)\n",
    "# print(dir(html))\n",
    "print()"
   ]
  },
  {
   "cell_type": "code",
   "execution_count": null,
   "id": "3ab14409-9727-447b-a75c-a089c69e7932",
   "metadata": {},
   "outputs": [],
   "source": [
    "# 2. 예외처리방법\n",
    "from urllib.error import HTTPError\n",
    "from urllib.error import URLError\n",
    "\n",
    "try:\n",
    "    html = urlopen('http://www.naver.com')\n",
    "except HTTPError as e:\n",
    "    print('HTTPError 발생!!!')\n",
    "except URLError as e:\n",
    "    print('존재하지 않는 사이트 입니다!')\n",
    "else:\n",
    "    print(html.read())"
   ]
  },
  {
   "cell_type": "code",
   "execution_count": 10,
   "id": "5a124f94-a97c-4558-b393-d5adbba21b3e",
   "metadata": {},
   "outputs": [
    {
     "name": "stdout",
     "output_type": "stream",
     "text": [
      "\n"
     ]
    }
   ],
   "source": [
    "from selenium import webdriver\n",
    "from selenium.webdriver.common.by import By\n",
    "from selenium.webdriver.common.keys import Keys\n",
    "import pyperclip\n",
    "import time\n",
    "\n",
    "# 네이버 \"자동차\" 검색 \n",
    "driver = webdriver.Chrome()\n",
    "driver.get('https://search.naver.com/search.naver?where=nexearch&sm=top_hty&fbm=0&ie=utf8&query=%EC%9E%90%EB%8F%99%EC%B0%A8') # 로그인하기위한 사이트 주소\n",
    "time.sleep(0)  #지연 없음 (대기시간)\n",
    "\n",
    "# 자동차 이름 클릭 \n",
    "login_btn = driver.find_element(By.CLASS_NAME, '_text')\n",
    "login_btn.click()\n",
    "time.sleep(0)\n",
    "\n",
    "# 자동차 상세정보(class : \"more_link\") 클릭 \n",
    "login_btn = driver.find_element(By.CLASS_NAME, 'more_link')\n",
    "login_btn.click()\n",
    "time.sleep(0)\n",
    "\n",
    "\n",
    "# 자동차 이름,  가격, 유종 추출 \n",
    "\n",
    "car_sizes = driver.find_elements(By.CLASS_NAME, 'txt')\n",
    "\n",
    "for car_size in car_sizes:\n",
    "    print(car_size.text)\n",
    "    break\n",
    "\n",
    "driver.close()\n",
    "\n",
    "\n",
    "\n",
    "\n"
   ]
  }
 ],
 "metadata": {
  "kernelspec": {
   "display_name": "Python 3 (ipykernel)",
   "language": "python",
   "name": "python3"
  },
  "language_info": {
   "codemirror_mode": {
    "name": "ipython",
    "version": 3
   },
   "file_extension": ".py",
   "mimetype": "text/x-python",
   "name": "python",
   "nbconvert_exporter": "python",
   "pygments_lexer": "ipython3",
   "version": "3.11.7"
  }
 },
 "nbformat": 4,
 "nbformat_minor": 5
}
